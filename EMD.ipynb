{
 "cells": [
  {
   "cell_type": "code",
   "execution_count": 83,
   "metadata": {
    "colab": {},
    "colab_type": "code",
    "id": "GJycmZ5j2BDv"
   },
   "outputs": [],
   "source": [
    "from skimage import measure, io, draw\n",
    "from skimage.future import graph\n",
    "\n",
    "import json\n",
    "from pprint import pprint\n",
    "import numpy as np\n",
    "import pandas as pd\n",
    "from pyemd import emd_samples\n",
    "\n",
    "import plotly.graph_objs as go\n",
    "from plotly.subplots import make_subplots\n",
    "import ipywidgets as widgets\n",
    "from IPython.display import display\n",
    "\n",
    "np.random.seed(0)"
   ]
  },
  {
   "cell_type": "markdown",
   "metadata": {
    "colab_type": "text",
    "id": "oB56uOFTCd5-"
   },
   "source": [
    "# Data Processing"
   ]
  },
  {
   "cell_type": "code",
   "execution_count": null,
   "metadata": {},
   "outputs": [],
   "source": [
    "# Load the data in as a Pandas DataFrame\n",
    "df = pd.read_pickle('./data/20200423-1804_states_timestep_mod_25.pickle')\n",
    "print(f'Length of df: {len(df)}')"
   ]
  },
  {
   "cell_type": "markdown",
   "metadata": {},
   "source": [
    "We will use a data set containing 4 versions (i.e., different random initial values) of trajectories generated with parameters $BR \\in \\{ 0.50, 0.53, 0.56, 0.59\\}$ and $CHI \\in \\{ 2.2, 2.8, 3.4, 4.0 \\}$ for a total of 64 trajectories, each containing a number of morphologies.\n",
    "\n",
    "Since many of the morphology samples look very similar, we'll only keep the first and every 25th morphology (i.e., when `timestep % 25 == 0`) of each trajectory.  This will reduce processing time and make the visualizations easier to interpret."
   ]
  },
  {
   "cell_type": "code",
   "execution_count": null,
   "metadata": {},
   "outputs": [],
   "source": [
    "print('Unique BR values:', np.unique(df.BR))\n",
    "print('Unique CHI values:', np.unique(df.CHI))\n",
    "print('Unique version values:', np.unique(df.version))\n",
    "print('Total Trajectories:', len(df.groupby(['BR', 'CHI', 'version'])))\n",
    "print('Total Morphologies:', len(df))"
   ]
  },
  {
   "cell_type": "code",
   "execution_count": null,
   "metadata": {
    "colab": {
     "base_uri": "https://localhost:8080/",
     "height": 119
    },
    "colab_type": "code",
    "id": "scxjck0c2_Rk",
    "outputId": "ec6c8ac9-2e05-4628-e9ba-f28e8b69bb0a"
   },
   "outputs": [],
   "source": [
    "# Print a sample record\n",
    "sample = df.iloc[206] # grab random sample\n",
    "print(sample) # print the sample record"
   ]
  },
  {
   "cell_type": "markdown",
   "metadata": {
    "colab_type": "text",
    "id": "l_hLbRJSA1k3"
   },
   "source": [
    "We can vizualize the data as a Heatmap with Plotly.  This function generates a template figure and it's layout to be used with our data."
   ]
  },
  {
   "cell_type": "code",
   "execution_count": null,
   "metadata": {
    "colab": {},
    "colab_type": "code",
    "id": "1e3ydwxp397e"
   },
   "outputs": [],
   "source": [
    "def get_sample_fig(data=None, height=75, width=300, margin=0):\n",
    "    if height is None:\n",
    "        height = data.shape[0]\n",
    "    if width is None:\n",
    "        width = data.shape[1]\n",
    "    if height < 10:\n",
    "        height = 10\n",
    "    if width < 10:\n",
    "        width = 10\n",
    "        \n",
    "    if margin is None:\n",
    "        # default\n",
    "        margin = dict(l=20, r=20, t=5, b=5)\n",
    "    if type(margin) == int:\n",
    "        margin = dict(l=margin, r=margin, t=margin, b=margin)\n",
    "    \n",
    "    # Generate Layout\n",
    "    sample_fig_layout = go.Layout(\n",
    "            height=height,\n",
    "            width=width,\n",
    "            showlegend=False,\n",
    "            margin=margin,\n",
    "            xaxis={\n",
    "                'showgrid': False,\n",
    "                'zeroline': False,\n",
    "                'visible': False\n",
    "            },\n",
    "            yaxis={\n",
    "                'showgrid': False,\n",
    "                'zeroline': False,\n",
    "                'visible': False\n",
    "            },\n",
    "        )\n",
    "    \n",
    "    # Generate Fig\n",
    "    sample_fig = go.FigureWidget(\n",
    "        data=go.Heatmap(\n",
    "            z=data,\n",
    "            hoverinfo='none',\n",
    "            showscale=False\n",
    "        ),\n",
    "        layout=sample_fig_layout\n",
    "    )\n",
    "    return sample_fig"
   ]
  },
  {
   "cell_type": "code",
   "execution_count": null,
   "metadata": {
    "colab": {
     "base_uri": "https://localhost:8080/",
     "height": 92
    },
    "colab_type": "code",
    "id": "Og5P_mN5Aqsw",
    "outputId": "1d471d4f-abec-4b02-be14-7d88310784a8"
   },
   "outputs": [],
   "source": [
    "sample_image = sample.image.reshape((100, 400))\n",
    "fig = get_sample_fig(sample_image)\n",
    "fig"
   ]
  },
  {
   "cell_type": "markdown",
   "metadata": {
    "colab_type": "text",
    "id": "sWfDbKKbC-2S"
   },
   "source": [
    "## Components\n",
    "\n",
    "We want to isolate each component for individual analysis.  We can do so with `scikit.measure.label`.  Notice that we're ignoring one of the materials (the yellow material in the above visualization)."
   ]
  },
  {
   "cell_type": "code",
   "execution_count": null,
   "metadata": {
    "colab": {},
    "colab_type": "code",
    "id": "AGM6MjGUB9nG"
   },
   "outputs": [],
   "source": [
    "# extract each labeled segment to it's own frame\n",
    "def extract_components(sample_image):\n",
    "    components = []\n",
    "    sample_image = (sample_image > 0.5).astype(int) # binarize\n",
    "    labeled_sample = measure.label(sample_image, background=-1)\n",
    "    for idx, label in enumerate(np.unique(labeled_sample)):\n",
    "        component = (\n",
    "            # we only want the component matching our current label\n",
    "            # and whose pixel value is '0'\n",
    "            (labeled_sample == label) & (sample_image == 0)\n",
    "        ).astype(np.float64)\n",
    "        if not (component == 0).all():\n",
    "            # if the entire image isn't all blank, collect it\n",
    "            components.append(component)\n",
    "    return components"
   ]
  },
  {
   "cell_type": "code",
   "execution_count": null,
   "metadata": {
    "colab": {
     "base_uri": "https://localhost:8080/",
     "height": 477
    },
    "colab_type": "code",
    "id": "0yQtRLDuD1I8",
    "outputId": "96ee2a2f-46b5-42b3-a978-56ab08ab0f35"
   },
   "outputs": [],
   "source": [
    "components = extract_components(sample_image)\n",
    "\n",
    "print('Original')\n",
    "display(get_sample_fig(sample_image))\n",
    "\n",
    "for idx, component in enumerate(components):\n",
    "    if idx % 25 == 0:\n",
    "        print(f'Component {idx}')\n",
    "        display(get_sample_fig(component))\n",
    "    if idx > 100:\n",
    "        break"
   ]
  },
  {
   "cell_type": "markdown",
   "metadata": {
    "colab_type": "text",
    "id": "ZpnpcHNREY9e"
   },
   "source": [
    "Cropping the components will be useful for our analysis."
   ]
  },
  {
   "cell_type": "code",
   "execution_count": null,
   "metadata": {
    "colab": {
     "base_uri": "https://localhost:8080/",
     "height": 291
    },
    "colab_type": "code",
    "id": "gRolrPqrEOYJ",
    "outputId": "311ef187-f742-4799-96d4-6e11f5ddc582"
   },
   "outputs": [],
   "source": [
    "def crop_image(img, tol=0):\n",
    "    mask = img > tol\n",
    "    return img[np.ix_(mask.any(1),mask.any(0))]\n",
    "\n",
    "for idx, component in enumerate(components):\n",
    "    if idx % 25 == 0:\n",
    "        print(f'Cropped Component {idx}')\n",
    "        display(get_sample_fig(crop_image(component), width=None, height=None))\n",
    "    if idx > 100:\n",
    "        break"
   ]
  },
  {
   "cell_type": "markdown",
   "metadata": {
    "colab_type": "text",
    "id": "5Y5ts86MFpiQ"
   },
   "source": [
    "# Earth Mover's Distance\n",
    "\n",
    "Introduced in the paper [\"A Metric for Distributions with Applications to Image Databases\"](https://users.cs.duke.edu/~tomasi/papers/rubner/rubnerIccv98.pdf), 1998 (Rubner, Tomasi, and Guibas), the Earth Mover's Distance (EMD) is a metric which can be used to determine the similarity between two distributions.\n",
    "\n",
    "EMD has many applications, including image database retrieval and GAN training.  A nice, brief explanation can be [found here](https://lilianweng.github.io/lil-log/2017/08/20/from-GAN-to-WGAN.html#what-is-wasserstein-distance), and a more thorough write-up can be [found here](http://infolab.stanford.edu/pub/cstr/reports/cs/tr/99/1620/CS-TR-99-1620.ch4.pdf)."
   ]
  },
  {
   "cell_type": "markdown",
   "metadata": {
    "colab_type": "text",
    "id": "qJlC2rH9GbfK"
   },
   "source": [
    "Consider the following example where three normal distributions (two with the same parameters) are sampled and compared using EMD:"
   ]
  },
  {
   "cell_type": "code",
   "execution_count": null,
   "metadata": {
    "colab": {},
    "colab_type": "code",
    "id": "uZkPTksSElRN"
   },
   "outputs": [],
   "source": [
    "dist1 = [np.random.normal(0.0, 1.0) for _ in range(1000)]\n",
    "dist2 = [np.random.normal(0.0, 1.0) for _ in range(1000)]\n",
    "dist3 = [np.random.normal(0.0, 0.5) for _ in range(1000)]\n",
    "\n",
    "dists = [dist1, dist2, dist3]"
   ]
  },
  {
   "cell_type": "markdown",
   "metadata": {
    "colab_type": "text",
    "id": "2SpkqpmhOST-"
   },
   "source": [
    "So,\n",
    "\n",
    "$$dist_1 \\sim \\mathcal{N}(0, 1)$$\n",
    "$$dist_2 \\sim \\mathcal{N}(0, 1)$$\n",
    "$$dist_3 \\sim \\mathcal{N}(0, 0.5)$$\n",
    "\n",
    "which we can vizualize below:"
   ]
  },
  {
   "cell_type": "code",
   "execution_count": null,
   "metadata": {
    "colab": {
     "base_uri": "https://localhost:8080/",
     "height": 542
    },
    "colab_type": "code",
    "id": "Q0fWP-2FIpTV",
    "outputId": "0e676355-d866-49d7-b0ba-11d1f8288616"
   },
   "outputs": [],
   "source": [
    "fig = make_subplots(rows=1, cols=3)\n",
    "\n",
    "for idx, dist in enumerate(dists):\n",
    "    fig.add_histogram(\n",
    "        x=dist,\n",
    "        row=1,\n",
    "        col=idx+1\n",
    "    )\n",
    "    fig.update_xaxes(title_text=f'dist{idx+1}', range=[-3, 3], row=1, col=idx+1)\n",
    "\n",
    "fig.update_layout(showlegend=False)\n",
    "fig.show()"
   ]
  },
  {
   "cell_type": "markdown",
   "metadata": {
    "colab_type": "text",
    "id": "bDqHUL65Pj-Z"
   },
   "source": [
    "Now, if we we're to use EMD to compare the similarity between these three distributions, we would expect $EMD(dist_1, dist_2) << EMD(dist_2, dist_3) \\approx EMD(dist_3, dist_1)$."
   ]
  },
  {
   "cell_type": "markdown",
   "metadata": {},
   "source": [
    "[PyEMD](https://pypi.org/project/pyemd/) provides an effecient implementation of the Earth Mover's Distance."
   ]
  },
  {
   "cell_type": "code",
   "execution_count": null,
   "metadata": {},
   "outputs": [],
   "source": [
    "print(f'EMD(dist1, dist2) = {emd_samples(dist1, dist2)}')\n",
    "print(f'EMD(dist2, dist3) = {emd_samples(dist2, dist3)}')\n",
    "print(f'EMD(dist3, dist1) = {emd_samples(dist3, dist1)}')"
   ]
  },
  {
   "cell_type": "markdown",
   "metadata": {},
   "source": [
    "Here's a slightly more complex example where our samples are 2-dimensional."
   ]
  },
  {
   "cell_type": "code",
   "execution_count": 77,
   "metadata": {},
   "outputs": [],
   "source": [
    "d1 = [(\n",
    "    np.random.normal(0.0, 0.2),\n",
    "    np.random.normal(0.0, 0.2)\n",
    ") for _ in range(80)]\n",
    "\n",
    "d2 = [(\n",
    "    np.random.normal(0.0, 0.2),\n",
    "    np.random.normal(0.0, 0.2)\n",
    ") for _ in range(110)]\n",
    "\n",
    "d3 = [(\n",
    "    np.random.normal(0.0, 0.2),\n",
    "    np.random.normal(0.2, 0.0)\n",
    ") for _ in range(100)]\n",
    "\n",
    "d4 = [(\n",
    "    np.random.normal(0.2, 0.2),\n",
    "    np.random.normal(0.2, 0.2)\n",
    ") for _ in range(100)]\n",
    "\n",
    "dists = [d1, d2, d3, d4]"
   ]
  },
  {
   "cell_type": "code",
   "execution_count": 78,
   "metadata": {},
   "outputs": [
    {
     "name": "stdout",
     "output_type": "stream",
     "text": [
      "EMD(dist1, dist2) = 0.028076527401698192\n",
      "EMD(dist2, dist3) = 0.13787924336631607\n",
      "EMD(dist3, dist4) = 0.1102165014220171\n",
      "EMD(dist4, dist1) = 0.22253389647039082\n"
     ]
    }
   ],
   "source": [
    "print(f'EMD(dist1, dist2) = {emd_samples(d1, d2)}')\n",
    "print(f'EMD(dist2, dist3) = {emd_samples(d2, d3)}')\n",
    "print(f'EMD(dist3, dist4) = {emd_samples(d3, d4)}')\n",
    "print(f'EMD(dist4, dist1) = {emd_samples(d4, d1)}')"
   ]
  },
  {
   "cell_type": "markdown",
   "metadata": {},
   "source": [
    "To better visualize the distance between our distributions, we can construct a distance matrix visualization."
   ]
  },
  {
   "cell_type": "code",
   "execution_count": 79,
   "metadata": {},
   "outputs": [],
   "source": [
    "def get_dist_matrix(sigs_x, sigs_y=None):\n",
    "    if sigs_y is None:\n",
    "        sigs_y = sigs_x\n",
    "    elif type(sigs_y[0]) != list:\n",
    "        sigs_y = [sigs_y]*len(sigs_x)\n",
    "    dist_matrix = []\n",
    "    for y in sigs_y:\n",
    "        row = []\n",
    "        for x in sigs_x:\n",
    "            row.append(emd_samples(x, y))\n",
    "        dist_matrix.append(row)\n",
    "    return dist_matrix\n",
    "\n",
    "def get_dist_fig(dist_matrix, labels_x=None, labels_y=None):\n",
    "    dist_fig = go.FigureWidget(\n",
    "        data=go.Heatmap(\n",
    "            x=labels_x,\n",
    "            y=labels_y,\n",
    "            z=dist_matrix\n",
    "        ),\n",
    "        layout=go.Layout(\n",
    "            coloraxis_showscale=False,\n",
    "            height=600,\n",
    "            width=600,\n",
    "            #margin=dict(b=90, t=90, l=96, r=0),\n",
    "            xaxis=dict(\n",
    "                autorange=True,\n",
    "                showgrid=False,\n",
    "                ticks='',\n",
    "                showticklabels=False\n",
    "            ),\n",
    "            yaxis=dict(\n",
    "                scaleanchor='x',\n",
    "                autorange=True,\n",
    "                showgrid=False,\n",
    "                ticks='',\n",
    "                showticklabels=False\n",
    "            )\n",
    "        )\n",
    "    )\n",
    "    return dist_fig"
   ]
  },
  {
   "cell_type": "code",
   "execution_count": 80,
   "metadata": {},
   "outputs": [
    {
     "data": {
      "application/vnd.jupyter.widget-view+json": {
       "model_id": "29e82a836c3548b696299c9e8e4531a1",
       "version_major": 2,
       "version_minor": 0
      },
      "text/plain": [
       "FigureWidget({\n",
       "    'data': [{'type': 'heatmap',\n",
       "              'uid': 'ef15f6f8-c558-4ba1-bd1f-1bcdba2e8686',\n",
       " …"
      ]
     },
     "metadata": {},
     "output_type": "display_data"
    }
   ],
   "source": [
    "get_dist_fig(get_dist_matrix(dists))"
   ]
  },
  {
   "cell_type": "markdown",
   "metadata": {},
   "source": [
    "# EMD on Images"
   ]
  },
  {
   "cell_type": "markdown",
   "metadata": {},
   "source": [
    "We need to extract the signature of each image.  We do so with a function which accepts an array of images and a function which extracts the signature for each image."
   ]
  },
  {
   "cell_type": "code",
   "execution_count": 90,
   "metadata": {},
   "outputs": [],
   "source": [
    "def get_signatures(images, sig_funcs):\n",
    "    if type(sig_funcs) != list:\n",
    "        sig_funcs = [sig_funcs]\n",
    "    sigs = []\n",
    "    for image in images:\n",
    "        image_sigs = []\n",
    "        for sig_func in sig_funcs:\n",
    "            sig = sig_func(image)\n",
    "            if len(sig) > 0:\n",
    "                image_sigs.append(sig)\n",
    "            else:\n",
    "                image_sigs.append([0.]) # need to add dummy data for now\n",
    "        sigs.append(np.array(image_sigs).T.tolist())\n",
    "    return sigs\n",
    "\n",
    "# Use some signature for demonstration\n",
    "def extract_pixel_color_ratio_signature(image):\n",
    "    ratios = []\n",
    "    components = extract_components(image)\n",
    "    for idx, component in enumerate(components):\n",
    "        ratio = np.sum(component == 1)/np.sum(component == 0)\n",
    "        ratios.append(ratio)\n",
    "    return ratios"
   ]
  },
  {
   "cell_type": "code",
   "execution_count": 91,
   "metadata": {},
   "outputs": [
    {
     "data": {
      "text/plain": [
       "'[[[0.0]], [[0.0008006405124099279], [0.004671723514341689], [0.0006754559327546094], [0.009998990001...'"
      ]
     },
     "execution_count": 91,
     "metadata": {},
     "output_type": "execute_result"
    }
   ],
   "source": [
    "str(get_signatures(\n",
    "    df.iloc[:10].image.apply(lambda image: image.reshape((100, 400))),\n",
    "    extract_pixel_color_ratio_signature\n",
    "))[:100] + '...'"
   ]
  },
  {
   "cell_type": "markdown",
   "metadata": {},
   "source": [
    "We can use Plotly to build interactive widgets to better visualize our data."
   ]
  },
  {
   "cell_type": "code",
   "execution_count": 92,
   "metadata": {},
   "outputs": [],
   "source": [
    "def get_dist_widget(dist_matrix, df_x, df_y=None):\n",
    "    # Accepts a distance matrix and DataFrames df_x and df_y\n",
    "    # corresponding to the x and y components of the matrix.\n",
    "    \n",
    "    # If df_y is None, it is assumed to be the same as df_x.\n",
    "    if df_y is None:\n",
    "        df_y = df_x\n",
    "        \n",
    "    # These are the hover labels\n",
    "    labels_x = [\n",
    "        json.dumps(dict(row[['BR', 'CHI', 'version', 'timestep']]))\n",
    "        for idx, row in df_x.iterrows()\n",
    "    ]\n",
    "    labels_y = [\n",
    "        json.dumps(dict(row[['BR', 'CHI', 'version', 'timestep']]))\n",
    "        for idx, row in df_y.iterrows()\n",
    "    ]\n",
    "    dist_fig = get_dist_fig(\n",
    "        dist_matrix,\n",
    "        labels_x=labels_x,\n",
    "        labels_y=labels_y\n",
    "    )\n",
    "    \n",
    "    # The stand-in morphology visualizations.\n",
    "    sample_fig_x = get_sample_fig(margin=None)\n",
    "    sample_fig_y = get_sample_fig(margin=None)\n",
    "    \n",
    "    # Prints the morphology information.\n",
    "    out_x = widgets.Output()\n",
    "    out_y = widgets.Output()\n",
    "    \n",
    "    # This gets triggered when the Heatmap is clicked on.\n",
    "    def show_samples(trace, points, selector):\n",
    "        # Get the params from the clicked cell\n",
    "        x_params = pd.Series(json.loads(points.xs[0]))\n",
    "        # Find it in the DataFrame\n",
    "        sample_x = df_x[(df_x[['BR', 'CHI', 'version', 'timestep']] == x_params).all(1)].iloc[0]\n",
    "        # Set the morphology viz to this image\n",
    "        sample_fig_x.data[0].z = sample_x.image.reshape((100, 400))\n",
    "        # Clear the output, then print the morph. info to it\n",
    "        out_x.clear_output()\n",
    "        with out_x:\n",
    "            print(\"Sample:\")\n",
    "            print(sample_x[['BR', 'CHI', 'version', 'timestep']])\n",
    "\n",
    "        # Do the same as above, but for the y-datapoint.\n",
    "        y_params = pd.Series(json.loads(points.ys[0]))\n",
    "        sample_y = df_y[(df_y[['BR', 'CHI', 'version', 'timestep']] == y_params).all(1)].iloc[0]\n",
    "        sample_fig_y.data[0].z = sample_y.image.reshape((100, 400))\n",
    "        out_y.clear_output()\n",
    "        with out_y:\n",
    "            print(\"Sample:\")\n",
    "            print(sample_y[['BR', 'CHI', 'version', 'timestep']])\n",
    "\n",
    "    # Set the click callback on the distance Heatmap to the above function\n",
    "    dist_fig.data[0].on_click(show_samples)\n",
    "\n",
    "    # We use VBox and HBox to structure the visualizations\n",
    "    return widgets.VBox([\n",
    "        dist_fig,\n",
    "        widgets.HBox([\n",
    "            widgets.VBox([\n",
    "                sample_fig_x,\n",
    "                out_x\n",
    "            ], layout={'max_width': '300px'}),\n",
    "            widgets.VBox([\n",
    "                sample_fig_y,\n",
    "                out_y\n",
    "            ], layout={'max_width': '300px'})\n",
    "        ],\n",
    "        layout=widgets.Layout(\n",
    "            display='flex',\n",
    "            justify_content='center'\n",
    "        ))\n",
    "    ])\n",
    "\n",
    "def build_dist_widget(sig_funcs, indices_x, indices_y=None):\n",
    "    # This builds the distance widget using the given indices\n",
    "    if indices_y is None:\n",
    "        indices_y = indices_x\n",
    "    elif type(indices_y) != list:\n",
    "        indices_y = [indices_y]*len(indices_x)\n",
    "\n",
    "    sigs_x = get_signatures(\n",
    "        df.iloc[indices_x].image.apply(lambda image: image.reshape((100, 400))),\n",
    "        sig_funcs\n",
    "    )\n",
    "    sigs_y = get_signatures(\n",
    "        df.iloc[indices_y].image.apply(lambda image: image.reshape((100, 400))),\n",
    "        sig_funcs\n",
    "    )\n",
    "    \n",
    "    dist_matrix = get_dist_matrix(sigs_x, sigs_y)\n",
    "    \n",
    "    return get_dist_widget(\n",
    "        dist_matrix,\n",
    "        df.iloc[indices_x],\n",
    "        df.iloc[indices_y]\n",
    "    )\n",
    "\n",
    "def compare_trajs_widget(sig_funcs, traj_x, traj_y=None):\n",
    "    # This builds the distance widget using the given trajectory params\n",
    "    if traj_y is None:\n",
    "        traj_y = traj_x\n",
    "    indices_x = sorted(df[\n",
    "        (df.BR == traj_x['BR']) &\n",
    "        (df.CHI == traj_x['CHI']) &\n",
    "        (df.version == traj_x['version'])\n",
    "    ].index)\n",
    "    indices_y = sorted(df[\n",
    "        (df.BR == traj_y['BR']) &\n",
    "        (df.CHI == traj_y['CHI']) &\n",
    "        (df.version == traj_y['version'])\n",
    "    ].index)\n",
    "    return build_dist_widget(sig_funcs, indices_x, indices_y)"
   ]
  },
  {
   "cell_type": "markdown",
   "metadata": {},
   "source": [
    "To test our visualizations, we pick a random trajectory and build a distance matrix widget comparing it's morphologies with themselves over time:"
   ]
  },
  {
   "cell_type": "code",
   "execution_count": 93,
   "metadata": {},
   "outputs": [
    {
     "data": {
      "application/vnd.jupyter.widget-view+json": {
       "model_id": "124b19a16df74d19bae589985cbb1123",
       "version_major": 2,
       "version_minor": 0
      },
      "text/plain": [
       "VBox(children=(HTML(value='\\n    <div style=\"text-align: center;\">\\n        <h1>Trajectory</h1>\\n        <h2>{…"
      ]
     },
     "metadata": {},
     "output_type": "display_data"
    }
   ],
   "source": [
    "traj_x = { 'BR': 0.53, 'CHI': 3.4, 'version': 1 }\n",
    "\n",
    "widgets.VBox([\n",
    "    widgets.HTML(f'''\n",
    "    <div style=\"text-align: center;\">\n",
    "        <h1>Trajectory</h1>\n",
    "        <h2>{traj_x}</h2>\n",
    "    </div>\n",
    "    '''),\n",
    "    compare_trajs_widget(extract_pixel_color_ratio_signature, traj_x)\n",
    "], layout=widgets.Layout(\n",
    "    width='600px'\n",
    "))"
   ]
  },
  {
   "cell_type": "markdown",
   "metadata": {},
   "source": [
    "The visualization should produce a symmetric distance matrix with values of $0$ along the diagonal (since we're comparing the trajectory against itself).  We can click on cells in the Heatmap to see the corresponding images.\n",
    "\n",
    "Next, we'll compare our trajectory to a different trajectory generated with the same parameters (i.e., two different versions):"
   ]
  },
  {
   "cell_type": "code",
   "execution_count": 94,
   "metadata": {},
   "outputs": [
    {
     "data": {
      "application/vnd.jupyter.widget-view+json": {
       "model_id": "08ec0de135a6429aafa6d12a74bcafc4",
       "version_major": 2,
       "version_minor": 0
      },
      "text/plain": [
       "VBox(children=(HTML(value='\\n    <div style=\"text-align: center;\">\\n        <h1>Trajectories</h1>\\n        <h2…"
      ]
     },
     "metadata": {},
     "output_type": "display_data"
    }
   ],
   "source": [
    "# visualize two trajectories with the same parameters\n",
    "traj_x = { 'BR': 0.53, 'CHI': 3.4, 'version': 1 }\n",
    "traj_y = { 'BR': 0.53, 'CHI': 3.4, 'version': 2 }\n",
    "\n",
    "widgets.VBox([\n",
    "    widgets.HTML(f'''\n",
    "    <div style=\"text-align: center;\">\n",
    "        <h1>Trajectories</h1>\n",
    "        <h2>{traj_x}<br>{traj_y}</h2>\n",
    "    </div>\n",
    "    '''),\n",
    "    compare_trajs_widget(extract_pixel_color_ratio_signature, traj_x, traj_y)\n",
    "], layout=widgets.Layout(\n",
    "    width='600px'\n",
    "))"
   ]
  },
  {
   "cell_type": "markdown",
   "metadata": {},
   "source": [
    "Finally, we'll compare two trajectories with different parameters."
   ]
  },
  {
   "cell_type": "code",
   "execution_count": 95,
   "metadata": {},
   "outputs": [
    {
     "data": {
      "application/vnd.jupyter.widget-view+json": {
       "model_id": "2bffbb63e0234f5abea3b62b104862c0",
       "version_major": 2,
       "version_minor": 0
      },
      "text/plain": [
       "VBox(children=(HTML(value='\\n    <div style=\"text-align: center;\">\\n        <h1>Trajectories</h1>\\n        <h2…"
      ]
     },
     "metadata": {},
     "output_type": "display_data"
    }
   ],
   "source": [
    "# visualize two trajectories with the different parameters\n",
    "traj_x = { 'BR': 0.53, 'CHI': 3.4, 'version': 1 }\n",
    "traj_y = { 'BR': 0.56, 'CHI': 4.0, 'version': 1 }\n",
    "\n",
    "widgets.VBox([\n",
    "    widgets.HTML(f'''\n",
    "    <div style=\"text-align: center;\">\n",
    "        <h1>Trajectories</h1>\n",
    "        <h2>{traj_x}<br>{traj_y}</h2>\n",
    "    </div>\n",
    "    '''),\n",
    "    compare_trajs_widget(extract_pixel_color_ratio_signature, traj_x, traj_y)\n",
    "], layout=widgets.Layout(\n",
    "    width='600px'\n",
    "))"
   ]
  },
  {
   "cell_type": "markdown",
   "metadata": {},
   "source": [
    "Interestingly, there may be a pattern forming in the rough diagonal of minimum values.  Notice that, trivially, comparing a trajectory to itself results in a perfect diagonal of exactly `0` values.\n",
    "\n",
    "When comparing the trajectory with a different version of itself, the minimum values increased from `0` and these values shifted away from the diagonal (towards the top/left).  Then, when comparing this trajectory with one with different parameters, the diagonal and it's values shifted even more.\n",
    "\n",
    "It may be the case that, when comparing trajectories, this diagonal and it's values can hint it the underlying generation parameters.  To test this, we create a visualization similar to above, but well use parameters on the otherside of the parameter spectrum, i.e., before we chose values for `BR` and `CHI` greater than our given trajectory, this time we'll choose values less than that of the given trajectory."
   ]
  },
  {
   "cell_type": "code",
   "execution_count": 96,
   "metadata": {},
   "outputs": [
    {
     "data": {
      "application/vnd.jupyter.widget-view+json": {
       "model_id": "1f218aa519a947a58741292a42f02d60",
       "version_major": 2,
       "version_minor": 0
      },
      "text/plain": [
       "VBox(children=(HTML(value='\\n    <div style=\"text-align: center;\">\\n        <h1>Trajectories</h1>\\n        <h2…"
      ]
     },
     "metadata": {},
     "output_type": "display_data"
    }
   ],
   "source": [
    "# visualize two trajectories with the different parameters\n",
    "traj_x = { 'BR': 0.53, 'CHI': 3.4, 'version': 1 }\n",
    "traj_y = { 'BR': 0.5, 'CHI': 2.8, 'version': 0 }\n",
    "\n",
    "widgets.VBox([\n",
    "    widgets.HTML(f'''\n",
    "    <div style=\"text-align: center;\">\n",
    "        <h1>Trajectories</h1>\n",
    "        <h2>{traj_x}<br>{traj_y}</h2>\n",
    "    </div>\n",
    "    '''),\n",
    "    compare_trajs_widget(extract_pixel_color_ratio_signature, traj_x, traj_y)\n",
    "], layout=widgets.Layout(\n",
    "    width='600px'\n",
    "))"
   ]
  },
  {
   "cell_type": "markdown",
   "metadata": {},
   "source": [
    "We see that the diagonal, this time, has shifted to the bottom/right.  These artifacts will be dependent on the signatures (and may be reversed based on which trajectory is in the x-axis/y-axis).  But this matches are intuition for how the distance in trajectories over time will change based on the underlying generation parameters."
   ]
  },
  {
   "cell_type": "markdown",
   "metadata": {},
   "source": [
    "# Other Signatures\n",
    "\n",
    "We can build our signatures with different functions, producing metrics which are sensitive to different features of our components:"
   ]
  },
  {
   "cell_type": "code",
   "execution_count": 51,
   "metadata": {},
   "outputs": [],
   "source": [
    "def extract_pixel_color_ratio_signature(image):\n",
    "    ratios = []\n",
    "    components = extract_components(image)\n",
    "    for idx, component in enumerate(components):\n",
    "        ratio = np.sum(component == 1)/np.sum(component == 0)\n",
    "        ratios.append(ratio)\n",
    "    return ratios\n",
    "\n",
    "def extract_bound_box_shape_ratio_signature(image):\n",
    "    ratios = []\n",
    "    components = extract_components(image)\n",
    "    for idx, component in enumerate(components):\n",
    "        shape = crop_image(component).shape\n",
    "        ratios.append(shape[0]/shape[1])\n",
    "    return ratios\n",
    "\n",
    "def extract_cropped_color_ratio_signature(image):\n",
    "    ratios = []\n",
    "    components = extract_components(image)\n",
    "    for idx, component in enumerate(components):\n",
    "        component = crop_image(component)\n",
    "        ratio = np.sum(component == 0)/(np.sum(component == 1) + 1e-5)\n",
    "        ratios.append(ratio)\n",
    "    return ratios\n",
    "\n",
    "def extract_vol_to_surf_ratio_signature(image):\n",
    "    ratios = []\n",
    "    components = extract_components(image)\n",
    "    for idx, component in enumerate(components):\n",
    "        perimeter = measure.perimeter(component)\n",
    "        area = np.sum(component == 1)\n",
    "        ratio = perimeter/(area + 1e-5)\n",
    "        ratio = min(ratio, 0.2) # for better color scales\n",
    "        ratios.append(ratio)\n",
    "    return ratios\n",
    "\n",
    "sig_extractors = {\n",
    "    'Pixel Color Ratio': extract_pixel_color_ratio_signature,\n",
    "    'Bounding-Box Shape Ratio': extract_bound_box_shape_ratio_signature,\n",
    "    'Cropped Pixel Color Ratio': extract_cropped_color_ratio_signature,\n",
    "    'Volume-Surface Ratio': extract_vol_to_surf_ratio_signature\n",
    "}"
   ]
  },
  {
   "cell_type": "markdown",
   "metadata": {},
   "source": [
    "We can supply a list of signature extraction functions to build a multi-dimensional signature out of them."
   ]
  },
  {
   "cell_type": "code",
   "execution_count": 137,
   "metadata": {},
   "outputs": [],
   "source": [
    "# visualize two trajectories with the same parameters\n",
    "traj_x = { 'BR': 0.53, 'CHI': 3.4, 'version': 1 }\n",
    "traj_y = { 'BR': 0.53, 'CHI': 3.4, 'version': 2 }\n",
    "\n",
    "sig_funcs = [\n",
    "    extract_pixel_color_ratio_signature,\n",
    "    extract_cropped_color_ratio_signature\n",
    "]"
   ]
  },
  {
   "cell_type": "code",
   "execution_count": 140,
   "metadata": {},
   "outputs": [
    {
     "data": {
      "application/vnd.jupyter.widget-view+json": {
       "model_id": "10c5688391714ead8f4ab72a024e9039",
       "version_major": 2,
       "version_minor": 0
      },
      "text/plain": [
       "VBox(children=(HTML(value='\\n    <div style=\"text-align: center;\">\\n        <h1>Trajectories</h1>\\n        <h2…"
      ]
     },
     "metadata": {},
     "output_type": "display_data"
    }
   ],
   "source": [
    "widget = compare_trajs_widget(sig_funcs, traj_x, traj_y)\n",
    "widget.children[0].data[0].update(zmin=0., zmax=0.65) # this adjusts the color scale\n",
    "\n",
    "widgets.VBox([\n",
    "    widgets.HTML(f'''\n",
    "    <div style=\"text-align: center;\">\n",
    "        <h1>Trajectories</h1>\n",
    "        <h2>{traj_x}<br>{traj_y}</h2>\n",
    "    </div>\n",
    "    '''),\n",
    "    widget\n",
    "], layout=widgets.Layout(\n",
    "    width='600px'\n",
    "))"
   ]
  },
  {
   "cell_type": "markdown",
   "metadata": {},
   "source": [
    "# Examine Final States\n",
    "\n",
    "Another way we can visualize our data is to extract the last morphology for each trajectory and compare their pair-wise distances.\n",
    "\n",
    "This will extract the indicies for the last available morphology for each trajectory.  Notice that the order that we're listing these indices is based on `BR`, then `CHI`, then `version`."
   ]
  },
  {
   "cell_type": "code",
   "execution_count": 115,
   "metadata": {},
   "outputs": [
    {
     "data": {
      "application/vnd.jupyter.widget-view+json": {
       "model_id": "85005ac2c3ce43b9b02fde83dbe3f249",
       "version_major": 2,
       "version_minor": 0
      },
      "text/plain": [
       "VBox(children=(HTML(value='\\n    <div style=\"text-align: center;\">\\n        <h1>Final States</h1>\\n        <h2…"
      ]
     },
     "metadata": {},
     "output_type": "display_data"
    }
   ],
   "source": [
    "final_state_indices = []\n",
    "for grouping, group in df.groupby(['BR', 'CHI', 'version']):\n",
    "    if grouping[2] != 0:\n",
    "        # Only use version 0 trajectories\n",
    "        continue\n",
    "    final_state = group[group.timestep == max(group.timestep)].iloc[0]\n",
    "    final_state_indices.append(final_state.name)\n",
    "\n",
    "widgets.VBox([\n",
    "    widgets.HTML(f'''\n",
    "    <div style=\"text-align: center;\">\n",
    "        <h1>Final States</h1>\n",
    "        <h2>Ordered by BR -> CHI -> version</h2>\n",
    "    </div>\n",
    "    '''),\n",
    "    build_dist_widget(extract_pixel_color_ratio_signature, final_state_indices)\n",
    "], layout=widgets.Layout(\n",
    "    width='600px'\n",
    "))"
   ]
  },
  {
   "cell_type": "markdown",
   "metadata": {},
   "source": [
    "Notice the range of distances and the \"hotspots\" near `CHI` values of 2.8.\n",
    "\n",
    "Another perspective is to create the same visualization, but ordering from `CHI` to `BR` instead:"
   ]
  },
  {
   "cell_type": "code",
   "execution_count": 116,
   "metadata": {},
   "outputs": [
    {
     "data": {
      "application/vnd.jupyter.widget-view+json": {
       "model_id": "ab9a5596e76345fda5f3a357c3ace7e3",
       "version_major": 2,
       "version_minor": 0
      },
      "text/plain": [
       "VBox(children=(HTML(value='\\n    <div style=\"text-align: center;\">\\n        <h1>Final States</h1>\\n        <h2…"
      ]
     },
     "metadata": {},
     "output_type": "display_data"
    }
   ],
   "source": [
    "final_state_indices = []\n",
    "for grouping, group in df.groupby(['CHI', 'BR', 'version']):\n",
    "    if grouping[2] != 0:\n",
    "        # Only use version 0 trajectories\n",
    "        continue\n",
    "    final_state = group[group.timestep == max(group.timestep)].iloc[0]\n",
    "    final_state_indices.append(final_state.name)\n",
    "\n",
    "widgets.VBox([\n",
    "    widgets.HTML(f'''\n",
    "    <div style=\"text-align: center;\">\n",
    "        <h1>Final States</h1>\n",
    "        <h2>Ordered by CHI -> BR -> version</h2>\n",
    "    </div>\n",
    "    '''),\n",
    "    build_dist_widget(extract_pixel_color_ratio_signature, final_state_indices)\n",
    "], layout=widgets.Layout(\n",
    "    width='600px'\n",
    "))"
   ]
  },
  {
   "cell_type": "markdown",
   "metadata": {},
   "source": [
    "This visualization, along with last, indicates that this particular signature is more sensitive to changes in `CHI` values compared to changes in `BR` values."
   ]
  },
  {
   "cell_type": "markdown",
   "metadata": {},
   "source": [
    "# Compare One Sample to the Rest"
   ]
  },
  {
   "cell_type": "code",
   "execution_count": 177,
   "metadata": {},
   "outputs": [
    {
     "name": "stdout",
     "output_type": "stream",
     "text": [
      "BRs: [0.5  0.53 0.56 0.59]\n",
      "CHIs: [2.2 2.8 3.4 4. ]\n"
     ]
    }
   ],
   "source": [
    "print('BRs:', np.unique(df.BR))\n",
    "print('CHIs:', np.unique(df.CHI))"
   ]
  },
  {
   "cell_type": "code",
   "execution_count": 225,
   "metadata": {},
   "outputs": [],
   "source": [
    "sample_traj = df[\n",
    "    (df.BR == 0.56) &\n",
    "    (df.CHI == 3.4) &\n",
    "    (df.version == 0)\n",
    "]\n",
    "sample_state = sample_traj[sample_traj.timestep == max(sample_traj.timestep)].iloc[0]\n",
    "sig_func = extract_pixel_color_ratio_signature"
   ]
  },
  {
   "cell_type": "code",
   "execution_count": 226,
   "metadata": {},
   "outputs": [],
   "source": [
    "dist_matrix = []\n",
    "for br, br_group in df.groupby(['BR']):\n",
    "    dist_row = []\n",
    "    for chi, chi_group in br_group.groupby(['CHI']):\n",
    "        for version, traj in chi_group.groupby(['version']):\n",
    "            if version != 0:\n",
    "                # Only use version 0 trajectories\n",
    "                continue\n",
    "            final_state = traj[traj.timestep == max(traj.timestep)].iloc[0]\n",
    "            dist_row.append(emd_samples(\n",
    "                sig_func(final_state.image.reshape((100, 400))),\n",
    "                sig_func(sample_state.image.reshape((100, 400)))\n",
    "            ))\n",
    "        dist_matrix.append(dist_row)"
   ]
  },
  {
   "cell_type": "code",
   "execution_count": 227,
   "metadata": {},
   "outputs": [
    {
     "data": {
      "application/vnd.plotly.v1+json": {
       "config": {
        "plotlyServerURL": "https://plot.ly"
       },
       "data": [
        {
         "type": "heatmap",
         "uid": "0794da35-12f9-4c1f-8ad0-22760e6909be",
         "z": [
          [
           0.01457122362566778,
           0.032865951444432606,
           0.01456277609575138,
           0.01106233180379129
          ],
          [
           0.01457122362566778,
           0.032865951444432606,
           0.01456277609575138,
           0.01106233180379129
          ],
          [
           0.01457122362566778,
           0.032865951444432606,
           0.01456277609575138,
           0.01106233180379129
          ],
          [
           0.01457122362566778,
           0.032865951444432606,
           0.01456277609575138,
           0.01106233180379129
          ],
          [
           0.007863565875372172,
           0.008174008304505306,
           0.005026231342989903,
           0.002351265000358776
          ],
          [
           0.007863565875372172,
           0.008174008304505306,
           0.005026231342989903,
           0.002351265000358776
          ],
          [
           0.007863565875372172,
           0.008174008304505306,
           0.005026231342989903,
           0.002351265000358776
          ],
          [
           0.007863565875372172,
           0.008174008304505306,
           0.005026231342989903,
           0.002351265000358776
          ],
          [
           0.0014929314815337671,
           0.0037008548431405985,
           0,
           0.0009421767828245014
          ],
          [
           0.0014929314815337671,
           0.0037008548431405985,
           0,
           0.0009421767828245014
          ],
          [
           0.0014929314815337671,
           0.0037008548431405985,
           0,
           0.0009421767828245014
          ],
          [
           0.0014929314815337671,
           0.0037008548431405985,
           0,
           0.0009421767828245014
          ],
          [
           0.0012142342383978516,
           0.0007316251480380563,
           0.00046583495962230326,
           0.0015344284174777236
          ],
          [
           0.0012142342383978516,
           0.0007316251480380563,
           0.00046583495962230326,
           0.0015344284174777236
          ],
          [
           0.0012142342383978516,
           0.0007316251480380563,
           0.00046583495962230326,
           0.0015344284174777236
          ],
          [
           0.0012142342383978516,
           0.0007316251480380563,
           0.00046583495962230326,
           0.0015344284174777236
          ]
         ],
         "zmax": 0.015,
         "zmin": 0
        }
       ],
       "layout": {
        "coloraxis": {
         "showscale": false
        },
        "height": 600,
        "template": {
         "data": {
          "bar": [
           {
            "error_x": {
             "color": "#2a3f5f"
            },
            "error_y": {
             "color": "#2a3f5f"
            },
            "marker": {
             "line": {
              "color": "#E5ECF6",
              "width": 0.5
             }
            },
            "type": "bar"
           }
          ],
          "barpolar": [
           {
            "marker": {
             "line": {
              "color": "#E5ECF6",
              "width": 0.5
             }
            },
            "type": "barpolar"
           }
          ],
          "carpet": [
           {
            "aaxis": {
             "endlinecolor": "#2a3f5f",
             "gridcolor": "white",
             "linecolor": "white",
             "minorgridcolor": "white",
             "startlinecolor": "#2a3f5f"
            },
            "baxis": {
             "endlinecolor": "#2a3f5f",
             "gridcolor": "white",
             "linecolor": "white",
             "minorgridcolor": "white",
             "startlinecolor": "#2a3f5f"
            },
            "type": "carpet"
           }
          ],
          "choropleth": [
           {
            "colorbar": {
             "outlinewidth": 0,
             "ticks": ""
            },
            "type": "choropleth"
           }
          ],
          "contour": [
           {
            "colorbar": {
             "outlinewidth": 0,
             "ticks": ""
            },
            "colorscale": [
             [
              0,
              "#0d0887"
             ],
             [
              0.1111111111111111,
              "#46039f"
             ],
             [
              0.2222222222222222,
              "#7201a8"
             ],
             [
              0.3333333333333333,
              "#9c179e"
             ],
             [
              0.4444444444444444,
              "#bd3786"
             ],
             [
              0.5555555555555556,
              "#d8576b"
             ],
             [
              0.6666666666666666,
              "#ed7953"
             ],
             [
              0.7777777777777778,
              "#fb9f3a"
             ],
             [
              0.8888888888888888,
              "#fdca26"
             ],
             [
              1,
              "#f0f921"
             ]
            ],
            "type": "contour"
           }
          ],
          "contourcarpet": [
           {
            "colorbar": {
             "outlinewidth": 0,
             "ticks": ""
            },
            "type": "contourcarpet"
           }
          ],
          "heatmap": [
           {
            "colorbar": {
             "outlinewidth": 0,
             "ticks": ""
            },
            "colorscale": [
             [
              0,
              "#0d0887"
             ],
             [
              0.1111111111111111,
              "#46039f"
             ],
             [
              0.2222222222222222,
              "#7201a8"
             ],
             [
              0.3333333333333333,
              "#9c179e"
             ],
             [
              0.4444444444444444,
              "#bd3786"
             ],
             [
              0.5555555555555556,
              "#d8576b"
             ],
             [
              0.6666666666666666,
              "#ed7953"
             ],
             [
              0.7777777777777778,
              "#fb9f3a"
             ],
             [
              0.8888888888888888,
              "#fdca26"
             ],
             [
              1,
              "#f0f921"
             ]
            ],
            "type": "heatmap"
           }
          ],
          "heatmapgl": [
           {
            "colorbar": {
             "outlinewidth": 0,
             "ticks": ""
            },
            "colorscale": [
             [
              0,
              "#0d0887"
             ],
             [
              0.1111111111111111,
              "#46039f"
             ],
             [
              0.2222222222222222,
              "#7201a8"
             ],
             [
              0.3333333333333333,
              "#9c179e"
             ],
             [
              0.4444444444444444,
              "#bd3786"
             ],
             [
              0.5555555555555556,
              "#d8576b"
             ],
             [
              0.6666666666666666,
              "#ed7953"
             ],
             [
              0.7777777777777778,
              "#fb9f3a"
             ],
             [
              0.8888888888888888,
              "#fdca26"
             ],
             [
              1,
              "#f0f921"
             ]
            ],
            "type": "heatmapgl"
           }
          ],
          "histogram": [
           {
            "marker": {
             "colorbar": {
              "outlinewidth": 0,
              "ticks": ""
             }
            },
            "type": "histogram"
           }
          ],
          "histogram2d": [
           {
            "colorbar": {
             "outlinewidth": 0,
             "ticks": ""
            },
            "colorscale": [
             [
              0,
              "#0d0887"
             ],
             [
              0.1111111111111111,
              "#46039f"
             ],
             [
              0.2222222222222222,
              "#7201a8"
             ],
             [
              0.3333333333333333,
              "#9c179e"
             ],
             [
              0.4444444444444444,
              "#bd3786"
             ],
             [
              0.5555555555555556,
              "#d8576b"
             ],
             [
              0.6666666666666666,
              "#ed7953"
             ],
             [
              0.7777777777777778,
              "#fb9f3a"
             ],
             [
              0.8888888888888888,
              "#fdca26"
             ],
             [
              1,
              "#f0f921"
             ]
            ],
            "type": "histogram2d"
           }
          ],
          "histogram2dcontour": [
           {
            "colorbar": {
             "outlinewidth": 0,
             "ticks": ""
            },
            "colorscale": [
             [
              0,
              "#0d0887"
             ],
             [
              0.1111111111111111,
              "#46039f"
             ],
             [
              0.2222222222222222,
              "#7201a8"
             ],
             [
              0.3333333333333333,
              "#9c179e"
             ],
             [
              0.4444444444444444,
              "#bd3786"
             ],
             [
              0.5555555555555556,
              "#d8576b"
             ],
             [
              0.6666666666666666,
              "#ed7953"
             ],
             [
              0.7777777777777778,
              "#fb9f3a"
             ],
             [
              0.8888888888888888,
              "#fdca26"
             ],
             [
              1,
              "#f0f921"
             ]
            ],
            "type": "histogram2dcontour"
           }
          ],
          "mesh3d": [
           {
            "colorbar": {
             "outlinewidth": 0,
             "ticks": ""
            },
            "type": "mesh3d"
           }
          ],
          "parcoords": [
           {
            "line": {
             "colorbar": {
              "outlinewidth": 0,
              "ticks": ""
             }
            },
            "type": "parcoords"
           }
          ],
          "pie": [
           {
            "automargin": true,
            "type": "pie"
           }
          ],
          "scatter": [
           {
            "marker": {
             "colorbar": {
              "outlinewidth": 0,
              "ticks": ""
             }
            },
            "type": "scatter"
           }
          ],
          "scatter3d": [
           {
            "line": {
             "colorbar": {
              "outlinewidth": 0,
              "ticks": ""
             }
            },
            "marker": {
             "colorbar": {
              "outlinewidth": 0,
              "ticks": ""
             }
            },
            "type": "scatter3d"
           }
          ],
          "scattercarpet": [
           {
            "marker": {
             "colorbar": {
              "outlinewidth": 0,
              "ticks": ""
             }
            },
            "type": "scattercarpet"
           }
          ],
          "scattergeo": [
           {
            "marker": {
             "colorbar": {
              "outlinewidth": 0,
              "ticks": ""
             }
            },
            "type": "scattergeo"
           }
          ],
          "scattergl": [
           {
            "marker": {
             "colorbar": {
              "outlinewidth": 0,
              "ticks": ""
             }
            },
            "type": "scattergl"
           }
          ],
          "scattermapbox": [
           {
            "marker": {
             "colorbar": {
              "outlinewidth": 0,
              "ticks": ""
             }
            },
            "type": "scattermapbox"
           }
          ],
          "scatterpolar": [
           {
            "marker": {
             "colorbar": {
              "outlinewidth": 0,
              "ticks": ""
             }
            },
            "type": "scatterpolar"
           }
          ],
          "scatterpolargl": [
           {
            "marker": {
             "colorbar": {
              "outlinewidth": 0,
              "ticks": ""
             }
            },
            "type": "scatterpolargl"
           }
          ],
          "scatterternary": [
           {
            "marker": {
             "colorbar": {
              "outlinewidth": 0,
              "ticks": ""
             }
            },
            "type": "scatterternary"
           }
          ],
          "surface": [
           {
            "colorbar": {
             "outlinewidth": 0,
             "ticks": ""
            },
            "colorscale": [
             [
              0,
              "#0d0887"
             ],
             [
              0.1111111111111111,
              "#46039f"
             ],
             [
              0.2222222222222222,
              "#7201a8"
             ],
             [
              0.3333333333333333,
              "#9c179e"
             ],
             [
              0.4444444444444444,
              "#bd3786"
             ],
             [
              0.5555555555555556,
              "#d8576b"
             ],
             [
              0.6666666666666666,
              "#ed7953"
             ],
             [
              0.7777777777777778,
              "#fb9f3a"
             ],
             [
              0.8888888888888888,
              "#fdca26"
             ],
             [
              1,
              "#f0f921"
             ]
            ],
            "type": "surface"
           }
          ],
          "table": [
           {
            "cells": {
             "fill": {
              "color": "#EBF0F8"
             },
             "line": {
              "color": "white"
             }
            },
            "header": {
             "fill": {
              "color": "#C8D4E3"
             },
             "line": {
              "color": "white"
             }
            },
            "type": "table"
           }
          ]
         },
         "layout": {
          "annotationdefaults": {
           "arrowcolor": "#2a3f5f",
           "arrowhead": 0,
           "arrowwidth": 1
          },
          "coloraxis": {
           "colorbar": {
            "outlinewidth": 0,
            "ticks": ""
           }
          },
          "colorscale": {
           "diverging": [
            [
             0,
             "#8e0152"
            ],
            [
             0.1,
             "#c51b7d"
            ],
            [
             0.2,
             "#de77ae"
            ],
            [
             0.3,
             "#f1b6da"
            ],
            [
             0.4,
             "#fde0ef"
            ],
            [
             0.5,
             "#f7f7f7"
            ],
            [
             0.6,
             "#e6f5d0"
            ],
            [
             0.7,
             "#b8e186"
            ],
            [
             0.8,
             "#7fbc41"
            ],
            [
             0.9,
             "#4d9221"
            ],
            [
             1,
             "#276419"
            ]
           ],
           "sequential": [
            [
             0,
             "#0d0887"
            ],
            [
             0.1111111111111111,
             "#46039f"
            ],
            [
             0.2222222222222222,
             "#7201a8"
            ],
            [
             0.3333333333333333,
             "#9c179e"
            ],
            [
             0.4444444444444444,
             "#bd3786"
            ],
            [
             0.5555555555555556,
             "#d8576b"
            ],
            [
             0.6666666666666666,
             "#ed7953"
            ],
            [
             0.7777777777777778,
             "#fb9f3a"
            ],
            [
             0.8888888888888888,
             "#fdca26"
            ],
            [
             1,
             "#f0f921"
            ]
           ],
           "sequentialminus": [
            [
             0,
             "#0d0887"
            ],
            [
             0.1111111111111111,
             "#46039f"
            ],
            [
             0.2222222222222222,
             "#7201a8"
            ],
            [
             0.3333333333333333,
             "#9c179e"
            ],
            [
             0.4444444444444444,
             "#bd3786"
            ],
            [
             0.5555555555555556,
             "#d8576b"
            ],
            [
             0.6666666666666666,
             "#ed7953"
            ],
            [
             0.7777777777777778,
             "#fb9f3a"
            ],
            [
             0.8888888888888888,
             "#fdca26"
            ],
            [
             1,
             "#f0f921"
            ]
           ]
          },
          "colorway": [
           "#636efa",
           "#EF553B",
           "#00cc96",
           "#ab63fa",
           "#FFA15A",
           "#19d3f3",
           "#FF6692",
           "#B6E880",
           "#FF97FF",
           "#FECB52"
          ],
          "font": {
           "color": "#2a3f5f"
          },
          "geo": {
           "bgcolor": "white",
           "lakecolor": "white",
           "landcolor": "#E5ECF6",
           "showlakes": true,
           "showland": true,
           "subunitcolor": "white"
          },
          "hoverlabel": {
           "align": "left"
          },
          "hovermode": "closest",
          "mapbox": {
           "style": "light"
          },
          "paper_bgcolor": "white",
          "plot_bgcolor": "#E5ECF6",
          "polar": {
           "angularaxis": {
            "gridcolor": "white",
            "linecolor": "white",
            "ticks": ""
           },
           "bgcolor": "#E5ECF6",
           "radialaxis": {
            "gridcolor": "white",
            "linecolor": "white",
            "ticks": ""
           }
          },
          "scene": {
           "xaxis": {
            "backgroundcolor": "#E5ECF6",
            "gridcolor": "white",
            "gridwidth": 2,
            "linecolor": "white",
            "showbackground": true,
            "ticks": "",
            "zerolinecolor": "white"
           },
           "yaxis": {
            "backgroundcolor": "#E5ECF6",
            "gridcolor": "white",
            "gridwidth": 2,
            "linecolor": "white",
            "showbackground": true,
            "ticks": "",
            "zerolinecolor": "white"
           },
           "zaxis": {
            "backgroundcolor": "#E5ECF6",
            "gridcolor": "white",
            "gridwidth": 2,
            "linecolor": "white",
            "showbackground": true,
            "ticks": "",
            "zerolinecolor": "white"
           }
          },
          "shapedefaults": {
           "line": {
            "color": "#2a3f5f"
           }
          },
          "ternary": {
           "aaxis": {
            "gridcolor": "white",
            "linecolor": "white",
            "ticks": ""
           },
           "baxis": {
            "gridcolor": "white",
            "linecolor": "white",
            "ticks": ""
           },
           "bgcolor": "#E5ECF6",
           "caxis": {
            "gridcolor": "white",
            "linecolor": "white",
            "ticks": ""
           }
          },
          "title": {
           "x": 0.05
          },
          "xaxis": {
           "automargin": true,
           "gridcolor": "white",
           "linecolor": "white",
           "ticks": "",
           "title": {
            "standoff": 15
           },
           "zerolinecolor": "white",
           "zerolinewidth": 2
          },
          "yaxis": {
           "automargin": true,
           "gridcolor": "white",
           "linecolor": "white",
           "ticks": "",
           "title": {
            "standoff": 15
           },
           "zerolinecolor": "white",
           "zerolinewidth": 2
          }
         }
        },
        "width": 600,
        "xaxis": {
         "autorange": true,
         "range": [
          -0.5,
          3.5
         ],
         "showgrid": false,
         "showticklabels": false,
         "ticks": ""
        },
        "yaxis": {
         "autorange": true,
         "range": [
          -0.5,
          15.5
         ],
         "showgrid": false,
         "showticklabels": false,
         "ticks": ""
        }
       }
      },
      "image/png": "[encoded data removed]",
      "text/html": [
       "<div>\n",
       "        \n",
       "        \n",
       "            <div id=\"ca7bdcc6-6122-4f15-850d-9e0e788fce9c\" class=\"plotly-graph-div\" style=\"height:600px; width:600px;\"></div>\n",
       "            <script type=\"text/javascript\">\n",
       "                require([\"plotly\"], function(Plotly) {\n",
       "                    window.PLOTLYENV=window.PLOTLYENV || {};\n",
       "                    \n",
       "                if (document.getElementById(\"ca7bdcc6-6122-4f15-850d-9e0e788fce9c\")) {\n",
       "                    Plotly.newPlot(\n",
       "                        'ca7bdcc6-6122-4f15-850d-9e0e788fce9c',\n",
       "                        [{\"type\": \"heatmap\", \"uid\": \"0794da35-12f9-4c1f-8ad0-22760e6909be\", \"z\": [[0.01457122362566778, 0.032865951444432606, 0.01456277609575138, 0.01106233180379129], [0.01457122362566778, 0.032865951444432606, 0.01456277609575138, 0.01106233180379129], [0.01457122362566778, 0.032865951444432606, 0.01456277609575138, 0.01106233180379129], [0.01457122362566778, 0.032865951444432606, 0.01456277609575138, 0.01106233180379129], [0.007863565875372172, 0.008174008304505306, 0.005026231342989903, 0.002351265000358776], [0.007863565875372172, 0.008174008304505306, 0.005026231342989903, 0.002351265000358776], [0.007863565875372172, 0.008174008304505306, 0.005026231342989903, 0.002351265000358776], [0.007863565875372172, 0.008174008304505306, 0.005026231342989903, 0.002351265000358776], [0.0014929314815337671, 0.0037008548431405985, 0.0, 0.0009421767828245014], [0.0014929314815337671, 0.0037008548431405985, 0.0, 0.0009421767828245014], [0.0014929314815337671, 0.0037008548431405985, 0.0, 0.0009421767828245014], [0.0014929314815337671, 0.0037008548431405985, 0.0, 0.0009421767828245014], [0.0012142342383978516, 0.0007316251480380563, 0.00046583495962230326, 0.0015344284174777236], [0.0012142342383978516, 0.0007316251480380563, 0.00046583495962230326, 0.0015344284174777236], [0.0012142342383978516, 0.0007316251480380563, 0.00046583495962230326, 0.0015344284174777236], [0.0012142342383978516, 0.0007316251480380563, 0.00046583495962230326, 0.0015344284174777236]], \"zmax\": 0.015, \"zmin\": 0.0}],\n",
       "                        {\"coloraxis\": {\"showscale\": false}, \"height\": 600, \"template\": {\"data\": {\"bar\": [{\"error_x\": {\"color\": \"#2a3f5f\"}, \"error_y\": {\"color\": \"#2a3f5f\"}, \"marker\": {\"line\": {\"color\": \"#E5ECF6\", \"width\": 0.5}}, \"type\": \"bar\"}], \"barpolar\": [{\"marker\": {\"line\": {\"color\": \"#E5ECF6\", \"width\": 0.5}}, \"type\": \"barpolar\"}], \"carpet\": [{\"aaxis\": {\"endlinecolor\": \"#2a3f5f\", \"gridcolor\": \"white\", \"linecolor\": \"white\", \"minorgridcolor\": \"white\", \"startlinecolor\": \"#2a3f5f\"}, \"baxis\": {\"endlinecolor\": \"#2a3f5f\", \"gridcolor\": \"white\", \"linecolor\": \"white\", \"minorgridcolor\": \"white\", \"startlinecolor\": \"#2a3f5f\"}, \"type\": \"carpet\"}], \"choropleth\": [{\"colorbar\": {\"outlinewidth\": 0, \"ticks\": \"\"}, \"type\": \"choropleth\"}], \"contour\": [{\"colorbar\": {\"outlinewidth\": 0, \"ticks\": \"\"}, \"colorscale\": [[0.0, \"#0d0887\"], [0.1111111111111111, \"#46039f\"], [0.2222222222222222, \"#7201a8\"], [0.3333333333333333, \"#9c179e\"], [0.4444444444444444, \"#bd3786\"], [0.5555555555555556, \"#d8576b\"], [0.6666666666666666, \"#ed7953\"], [0.7777777777777778, \"#fb9f3a\"], [0.8888888888888888, \"#fdca26\"], [1.0, \"#f0f921\"]], \"type\": \"contour\"}], \"contourcarpet\": [{\"colorbar\": {\"outlinewidth\": 0, \"ticks\": \"\"}, \"type\": \"contourcarpet\"}], \"heatmap\": [{\"colorbar\": {\"outlinewidth\": 0, \"ticks\": \"\"}, \"colorscale\": [[0.0, \"#0d0887\"], [0.1111111111111111, \"#46039f\"], [0.2222222222222222, \"#7201a8\"], [0.3333333333333333, \"#9c179e\"], [0.4444444444444444, \"#bd3786\"], [0.5555555555555556, \"#d8576b\"], [0.6666666666666666, \"#ed7953\"], [0.7777777777777778, \"#fb9f3a\"], [0.8888888888888888, \"#fdca26\"], [1.0, \"#f0f921\"]], \"type\": \"heatmap\"}], \"heatmapgl\": [{\"colorbar\": {\"outlinewidth\": 0, \"ticks\": \"\"}, \"colorscale\": [[0.0, \"#0d0887\"], [0.1111111111111111, \"#46039f\"], [0.2222222222222222, \"#7201a8\"], [0.3333333333333333, \"#9c179e\"], [0.4444444444444444, \"#bd3786\"], [0.5555555555555556, \"#d8576b\"], [0.6666666666666666, \"#ed7953\"], [0.7777777777777778, \"#fb9f3a\"], [0.8888888888888888, \"#fdca26\"], [1.0, \"#f0f921\"]], \"type\": \"heatmapgl\"}], \"histogram\": [{\"marker\": {\"colorbar\": {\"outlinewidth\": 0, \"ticks\": \"\"}}, \"type\": \"histogram\"}], \"histogram2d\": [{\"colorbar\": {\"outlinewidth\": 0, \"ticks\": \"\"}, \"colorscale\": [[0.0, \"#0d0887\"], [0.1111111111111111, \"#46039f\"], [0.2222222222222222, \"#7201a8\"], [0.3333333333333333, \"#9c179e\"], [0.4444444444444444, \"#bd3786\"], [0.5555555555555556, \"#d8576b\"], [0.6666666666666666, \"#ed7953\"], [0.7777777777777778, \"#fb9f3a\"], [0.8888888888888888, \"#fdca26\"], [1.0, \"#f0f921\"]], \"type\": \"histogram2d\"}], \"histogram2dcontour\": [{\"colorbar\": {\"outlinewidth\": 0, \"ticks\": \"\"}, \"colorscale\": [[0.0, \"#0d0887\"], [0.1111111111111111, \"#46039f\"], [0.2222222222222222, \"#7201a8\"], [0.3333333333333333, \"#9c179e\"], [0.4444444444444444, \"#bd3786\"], [0.5555555555555556, \"#d8576b\"], [0.6666666666666666, \"#ed7953\"], [0.7777777777777778, \"#fb9f3a\"], [0.8888888888888888, \"#fdca26\"], [1.0, \"#f0f921\"]], \"type\": \"histogram2dcontour\"}], \"mesh3d\": [{\"colorbar\": {\"outlinewidth\": 0, \"ticks\": \"\"}, \"type\": \"mesh3d\"}], \"parcoords\": [{\"line\": {\"colorbar\": {\"outlinewidth\": 0, \"ticks\": \"\"}}, \"type\": \"parcoords\"}], \"pie\": [{\"automargin\": true, \"type\": \"pie\"}], \"scatter\": [{\"marker\": {\"colorbar\": {\"outlinewidth\": 0, \"ticks\": \"\"}}, \"type\": \"scatter\"}], \"scatter3d\": [{\"line\": {\"colorbar\": {\"outlinewidth\": 0, \"ticks\": \"\"}}, \"marker\": {\"colorbar\": {\"outlinewidth\": 0, \"ticks\": \"\"}}, \"type\": \"scatter3d\"}], \"scattercarpet\": [{\"marker\": {\"colorbar\": {\"outlinewidth\": 0, \"ticks\": \"\"}}, \"type\": \"scattercarpet\"}], \"scattergeo\": [{\"marker\": {\"colorbar\": {\"outlinewidth\": 0, \"ticks\": \"\"}}, \"type\": \"scattergeo\"}], \"scattergl\": [{\"marker\": {\"colorbar\": {\"outlinewidth\": 0, \"ticks\": \"\"}}, \"type\": \"scattergl\"}], \"scattermapbox\": [{\"marker\": {\"colorbar\": {\"outlinewidth\": 0, \"ticks\": \"\"}}, \"type\": \"scattermapbox\"}], \"scatterpolar\": [{\"marker\": {\"colorbar\": {\"outlinewidth\": 0, \"ticks\": \"\"}}, \"type\": \"scatterpolar\"}], \"scatterpolargl\": [{\"marker\": {\"colorbar\": {\"outlinewidth\": 0, \"ticks\": \"\"}}, \"type\": \"scatterpolargl\"}], \"scatterternary\": [{\"marker\": {\"colorbar\": {\"outlinewidth\": 0, \"ticks\": \"\"}}, \"type\": \"scatterternary\"}], \"surface\": [{\"colorbar\": {\"outlinewidth\": 0, \"ticks\": \"\"}, \"colorscale\": [[0.0, \"#0d0887\"], [0.1111111111111111, \"#46039f\"], [0.2222222222222222, \"#7201a8\"], [0.3333333333333333, \"#9c179e\"], [0.4444444444444444, \"#bd3786\"], [0.5555555555555556, \"#d8576b\"], [0.6666666666666666, \"#ed7953\"], [0.7777777777777778, \"#fb9f3a\"], [0.8888888888888888, \"#fdca26\"], [1.0, \"#f0f921\"]], \"type\": \"surface\"}], \"table\": [{\"cells\": {\"fill\": {\"color\": \"#EBF0F8\"}, \"line\": {\"color\": \"white\"}}, \"header\": {\"fill\": {\"color\": \"#C8D4E3\"}, \"line\": {\"color\": \"white\"}}, \"type\": \"table\"}]}, \"layout\": {\"annotationdefaults\": {\"arrowcolor\": \"#2a3f5f\", \"arrowhead\": 0, \"arrowwidth\": 1}, \"coloraxis\": {\"colorbar\": {\"outlinewidth\": 0, \"ticks\": \"\"}}, \"colorscale\": {\"diverging\": [[0, \"#8e0152\"], [0.1, \"#c51b7d\"], [0.2, \"#de77ae\"], [0.3, \"#f1b6da\"], [0.4, \"#fde0ef\"], [0.5, \"#f7f7f7\"], [0.6, \"#e6f5d0\"], [0.7, \"#b8e186\"], [0.8, \"#7fbc41\"], [0.9, \"#4d9221\"], [1, \"#276419\"]], \"sequential\": [[0.0, \"#0d0887\"], [0.1111111111111111, \"#46039f\"], [0.2222222222222222, \"#7201a8\"], [0.3333333333333333, \"#9c179e\"], [0.4444444444444444, \"#bd3786\"], [0.5555555555555556, \"#d8576b\"], [0.6666666666666666, \"#ed7953\"], [0.7777777777777778, \"#fb9f3a\"], [0.8888888888888888, \"#fdca26\"], [1.0, \"#f0f921\"]], \"sequentialminus\": [[0.0, \"#0d0887\"], [0.1111111111111111, \"#46039f\"], [0.2222222222222222, \"#7201a8\"], [0.3333333333333333, \"#9c179e\"], [0.4444444444444444, \"#bd3786\"], [0.5555555555555556, \"#d8576b\"], [0.6666666666666666, \"#ed7953\"], [0.7777777777777778, \"#fb9f3a\"], [0.8888888888888888, \"#fdca26\"], [1.0, \"#f0f921\"]]}, \"colorway\": [\"#636efa\", \"#EF553B\", \"#00cc96\", \"#ab63fa\", \"#FFA15A\", \"#19d3f3\", \"#FF6692\", \"#B6E880\", \"#FF97FF\", \"#FECB52\"], \"font\": {\"color\": \"#2a3f5f\"}, \"geo\": {\"bgcolor\": \"white\", \"lakecolor\": \"white\", \"landcolor\": \"#E5ECF6\", \"showlakes\": true, \"showland\": true, \"subunitcolor\": \"white\"}, \"hoverlabel\": {\"align\": \"left\"}, \"hovermode\": \"closest\", \"mapbox\": {\"style\": \"light\"}, \"paper_bgcolor\": \"white\", \"plot_bgcolor\": \"#E5ECF6\", \"polar\": {\"angularaxis\": {\"gridcolor\": \"white\", \"linecolor\": \"white\", \"ticks\": \"\"}, \"bgcolor\": \"#E5ECF6\", \"radialaxis\": {\"gridcolor\": \"white\", \"linecolor\": \"white\", \"ticks\": \"\"}}, \"scene\": {\"xaxis\": {\"backgroundcolor\": \"#E5ECF6\", \"gridcolor\": \"white\", \"gridwidth\": 2, \"linecolor\": \"white\", \"showbackground\": true, \"ticks\": \"\", \"zerolinecolor\": \"white\"}, \"yaxis\": {\"backgroundcolor\": \"#E5ECF6\", \"gridcolor\": \"white\", \"gridwidth\": 2, \"linecolor\": \"white\", \"showbackground\": true, \"ticks\": \"\", \"zerolinecolor\": \"white\"}, \"zaxis\": {\"backgroundcolor\": \"#E5ECF6\", \"gridcolor\": \"white\", \"gridwidth\": 2, \"linecolor\": \"white\", \"showbackground\": true, \"ticks\": \"\", \"zerolinecolor\": \"white\"}}, \"shapedefaults\": {\"line\": {\"color\": \"#2a3f5f\"}}, \"ternary\": {\"aaxis\": {\"gridcolor\": \"white\", \"linecolor\": \"white\", \"ticks\": \"\"}, \"baxis\": {\"gridcolor\": \"white\", \"linecolor\": \"white\", \"ticks\": \"\"}, \"bgcolor\": \"#E5ECF6\", \"caxis\": {\"gridcolor\": \"white\", \"linecolor\": \"white\", \"ticks\": \"\"}}, \"title\": {\"x\": 0.05}, \"xaxis\": {\"automargin\": true, \"gridcolor\": \"white\", \"linecolor\": \"white\", \"ticks\": \"\", \"title\": {\"standoff\": 15}, \"zerolinecolor\": \"white\", \"zerolinewidth\": 2}, \"yaxis\": {\"automargin\": true, \"gridcolor\": \"white\", \"linecolor\": \"white\", \"ticks\": \"\", \"title\": {\"standoff\": 15}, \"zerolinecolor\": \"white\", \"zerolinewidth\": 2}}}, \"width\": 600, \"xaxis\": {\"autorange\": true, \"showgrid\": false, \"showticklabels\": false, \"ticks\": \"\"}, \"yaxis\": {\"autorange\": true, \"showgrid\": false, \"showticklabels\": false, \"ticks\": \"\"}},\n",
       "                        {\"responsive\": true}\n",
       "                    ).then(function(){\n",
       "                            \n",
       "var gd = document.getElementById('ca7bdcc6-6122-4f15-850d-9e0e788fce9c');\n",
       "var x = new MutationObserver(function (mutations, observer) {{\n",
       "        var display = window.getComputedStyle(gd).display;\n",
       "        if (!display || display === 'none') {{\n",
       "            console.log([gd, 'removed!']);\n",
       "            Plotly.purge(gd);\n",
       "            observer.disconnect();\n",
       "        }}\n",
       "}});\n",
       "\n",
       "// Listen for the removal of the full notebook cells\n",
       "var notebookContainer = gd.closest('#notebook-container');\n",
       "if (notebookContainer) {{\n",
       "    x.observe(notebookContainer, {childList: true});\n",
       "}}\n",
       "\n",
       "// Listen for the clearing of the current output cell\n",
       "var outputEl = gd.closest('.output');\n",
       "if (outputEl) {{\n",
       "    x.observe(outputEl, {childList: true});\n",
       "}}\n",
       "\n",
       "                        })\n",
       "                };\n",
       "                });\n",
       "            </script>\n",
       "        </div>"
      ]
     },
     "metadata": {},
     "output_type": "display_data"
    }
   ],
   "source": [
    "fig = get_dist_fig(dist_matrix)\n",
    "fig.data[0].update(zmin=0., zmax=0.015) # adjust the color scale\n",
    "fig.show()"
   ]
  },
  {
   "cell_type": "code",
   "execution_count": null,
   "metadata": {},
   "outputs": [],
   "source": []
  }
 ],
 "metadata": {
  "colab": {
   "collapsed_sections": [],
   "name": "SCoRe - EMD.ipynb",
   "provenance": []
  },
  "kernelspec": {
   "display_name": "EMD",
   "language": "python",
   "name": "emd"
  },
  "language_info": {
   "codemirror_mode": {
    "name": "ipython",
    "version": 3
   },
   "file_extension": ".py",
   "mimetype": "text/x-python",
   "name": "python",
   "nbconvert_exporter": "python",
   "pygments_lexer": "ipython3",
   "version": "3.6.9"
  }
 },
 "nbformat": 4,
 "nbformat_minor": 4
}
